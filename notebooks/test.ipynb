{
 "cells": [
  {
   "cell_type": "code",
   "execution_count": 1,
   "metadata": {},
   "outputs": [
    {
     "name": "stdout",
     "output_type": "stream",
     "text": [
      "Intel MKL WARNING: Support of Intel(R) Streaming SIMD Extensions 4.2 (Intel(R) SSE4.2) enabled only processors has been deprecated. Intel oneAPI Math Kernel Library 2025.0 will require Intel(R) Advanced Vector Extensions (Intel(R) AVX) instructions.\n",
      "Intel MKL WARNING: Support of Intel(R) Streaming SIMD Extensions 4.2 (Intel(R) SSE4.2) enabled only processors has been deprecated. Intel oneAPI Math Kernel Library 2025.0 will require Intel(R) Advanced Vector Extensions (Intel(R) AVX) instructions.\n"
     ]
    },
    {
     "data": {
      "image/png": "[encoded data removed]",
      "text/plain": [
       "<Figure size 640x480 with 1 Axes>"
      ]
     },
     "metadata": {},
     "output_type": "display_data"
    }
   ],
   "source": [
    "import numpy as np\n",
    "import matplotlib.pyplot as plt\n",
    "from mpl_toolkits.mplot3d import Axes3D\n",
    "\n",
    "colors_array = [\"white\", \"red\", \"green\", \"orange\", \"blue\", \"yellow\"]\n",
    "cube = np.ones((3, 3, 3), dtype=bool)\n",
    "cube_colors = np.empty(cube.shape, dtype=\"str\")\n",
    "\n",
    "fig = plt.figure()\n",
    "ax = plt.axes(projection=\"3d\")\n",
    "ax.set_facecolor(\"Cyan\")\n",
    "ax.voxels(cube, facecolors=\"red\", edgecolors=\"black\")\n",
    "ax.axis(\"off\") \n",
    "plt.show()"
   ]
  },
  {
   "cell_type": "code",
   "execution_count": 3,
   "metadata": {},
   "outputs": [
    {
     "data": {
      "text/plain": [
       "array([[[ True,  True,  True],\n",
       "        [ True,  True,  True],\n",
       "        [ True,  True,  True]],\n",
       "\n",
       "       [[ True,  True,  True],\n",
       "        [ True,  True,  True],\n",
       "        [ True,  True,  True]],\n",
       "\n",
       "       [[ True,  True,  True],\n",
       "        [ True,  True,  True],\n",
       "        [ True,  True,  True]]])"
      ]
     },
     "execution_count": 3,
     "metadata": {},
     "output_type": "execute_result"
    }
   ],
   "source": [
    "cube"
   ]
  },
  {
   "cell_type": "code",
   "execution_count": 4,
   "metadata": {},
   "outputs": [
    {
     "data": {
      "application/vnd.plotly.v1+json": {
       "config": {
        "plotlyServerURL": "https://plot.ly"
       },
       "data": [
        {
         "color": "white",
         "flatshading": true,
         "opacity": 1,
         "type": "mesh3d",
         "x": [
          0,
          1,
          1,
          0
         ],
         "y": [
          0,
          0,
          1,
          1
         ],
         "z": [
          0,
          0,
          0,
          0
         ]
        },
        {
         "color": "white",
         "flatshading": true,
         "opacity": 1,
         "type": "mesh3d",
         "x": [
          0,
          1,
          1,
          0
         ],
         "y": [
          1,
          1,
          2,
          2
         ],
         "z": [
          0,
          0,
          0,
          0
         ]
        },
        {
         "color": "white",
         "flatshading": true,
         "opacity": 1,
         "type": "mesh3d",
         "x": [
          0,
          1,
          1,
          0
         ],
         "y": [
          2,
          2,
          3,
          3
         ],
         "z": [
          0,
          0,
          0,
          0
         ]
        },
        {
         "color": "white",
         "flatshading": true,
         "opacity": 1,
         "type": "mesh3d",
         "x": [
          1,
          2,
          2,
          1
         ],
         "y": [
          0,
          0,
          1,
          1
         ],
         "z": [
          0,
          0,
          0,
          0
         ]
        },
        {
         "color": "white",
         "flatshading": true,
         "opacity": 1,
         "type": "mesh3d",
         "x": [
          1,
          2,
          2,
          1
         ],
         "y": [
          1,
          1,
          2,
          2
         ],
         "z": [
          0,
          0,
          0,
          0
         ]
        },
        {
         "color": "white",
         "flatshading": true,
         "opacity": 1,
         "type": "mesh3d",
         "x": [
          1,
          2,
          2,
          1
         ],
         "y": [
          2,
          2,
          3,
          3
         ],
         "z": [
          0,
          0,
          0,
          0
         ]
        },
        {
         "color": "white",
         "flatshading": true,
         "opacity": 1,
         "type": "mesh3d",
         "x": [
          2,
          3,
          3,
          2
         ],
         "y": [
          0,
          0,
          1,
          1
         ],
         "z": [
          0,
          0,
          0,
          0
         ]
        },
        {
         "color": "white",
         "flatshading": true,
         "opacity": 1,
         "type": "mesh3d",
         "x": [
          2,
          3,
          3,
          2
         ],
         "y": [
          1,
          1,
          2,
          2
         ],
         "z": [
          0,
          0,
          0,
          0
         ]
        },
        {
         "color": "white",
         "flatshading": true,
         "opacity": 1,
         "type": "mesh3d",
         "x": [
          2,
          3,
          3,
          2
         ],
         "y": [
          2,
          2,
          3,
          3
         ],
         "z": [
          0,
          0,
          0,
          0
         ]
        },
        {
         "color": "yellow",
         "flatshading": true,
         "opacity": 1,
         "type": "mesh3d",
         "x": [
          0,
          1,
          1,
          0
         ],
         "y": [
          0,
          0,
          1,
          1
         ],
         "z": [
          2,
          2,
          2,
          2
         ]
        },
        {
         "color": "yellow",
         "flatshading": true,
         "opacity": 1,
         "type": "mesh3d",
         "x": [
          0,
          1,
          1,
          0
         ],
         "y": [
          1,
          1,
          2,
          2
         ],
         "z": [
          2,
          2,
          2,
          2
         ]
        },
        {
         "color": "yellow",
         "flatshading": true,
         "opacity": 1,
         "type": "mesh3d",
         "x": [
          0,
          1,
          1,
          0
         ],
         "y": [
          2,
          2,
          3,
          3
         ],
         "z": [
          2,
          2,
          2,
          2
         ]
        },
        {
         "color": "yellow",
         "flatshading": true,
         "opacity": 1,
         "type": "mesh3d",
         "x": [
          1,
          2,
          2,
          1
         ],
         "y": [
          0,
          0,
          1,
          1
         ],
         "z": [
          2,
          2,
          2,
          2
         ]
        },
        {
         "color": "yellow",
         "flatshading": true,
         "opacity": 1,
         "type": "mesh3d",
         "x": [
          1,
          2,
          2,
          1
         ],
         "y": [
          1,
          1,
          2,
          2
         ],
         "z": [
          2,
          2,
          2,
          2
         ]
        },
        {
         "color": "yellow",
         "flatshading": true,
         "opacity": 1,
         "type": "mesh3d",
         "x": [
          1,
          2,
          2,
          1
         ],
         "y": [
          2,
          2,
          3,
          3
         ],
         "z": [
          2,
          2,
          2,
          2
         ]
        },
        {
         "color": "yellow",
         "flatshading": true,
         "opacity": 1,
         "type": "mesh3d",
         "x": [
          2,
          3,
          3,
          2
         ],
         "y": [
          0,
          0,
          1,
          1
         ],
         "z": [
          2,
          2,
          2,
          2
         ]
        },
        {
         "color": "yellow",
         "flatshading": true,
         "opacity": 1,
         "type": "mesh3d",
         "x": [
          2,
          3,
          3,
          2
         ],
         "y": [
          1,
          1,
          2,
          2
         ],
         "z": [
          2,
          2,
          2,
          2
         ]
        },
        {
         "color": "yellow",
         "flatshading": true,
         "opacity": 1,
         "type": "mesh3d",
         "x": [
          2,
          3,
          3,
          2
         ],
         "y": [
          2,
          2,
          3,
          3
         ],
         "z": [
          2,
          2,
          2,
          2
         ]
        },
        {
         "color": "red",
         "flatshading": true,
         "opacity": 1,
         "type": "mesh3d",
         "x": [
          0,
          0,
          0,
          0
         ],
         "y": [
          0,
          1,
          1,
          0
         ],
         "z": [
          0,
          0,
          1,
          1
         ]
        },
        {
         "color": "red",
         "flatshading": true,
         "opacity": 1,
         "type": "mesh3d",
         "x": [
          0,
          0,
          0,
          0
         ],
         "y": [
          0,
          1,
          1,
          0
         ],
         "z": [
          1,
          1,
          2,
          2
         ]
        },
        {
         "color": "red",
         "flatshading": true,
         "opacity": 1,
         "type": "mesh3d",
         "x": [
          0,
          0,
          0,
          0
         ],
         "y": [
          0,
          1,
          1,
          0
         ],
         "z": [
          2,
          2,
          3,
          3
         ]
        },
        {
         "color": "red",
         "flatshading": true,
         "opacity": 1,
         "type": "mesh3d",
         "x": [
          0,
          0,
          0,
          0
         ],
         "y": [
          1,
          2,
          2,
          1
         ],
         "z": [
          0,
          0,
          1,
          1
         ]
        },
        {
         "color": "red",
         "flatshading": true,
         "opacity": 1,
         "type": "mesh3d",
         "x": [
          0,
          0,
          0,
          0
         ],
         "y": [
          1,
          2,
          2,
          1
         ],
         "z": [
          1,
          1,
          2,
          2
         ]
        },
        {
         "color": "red",
         "flatshading": true,
         "opacity": 1,
         "type": "mesh3d",
         "x": [
          0,
          0,
          0,
          0
         ],
         "y": [
          1,
          2,
          2,
          1
         ],
         "z": [
          2,
          2,
          3,
          3
         ]
        },
        {
         "color": "red",
         "flatshading": true,
         "opacity": 1,
         "type": "mesh3d",
         "x": [
          0,
          0,
          0,
          0
         ],
         "y": [
          2,
          3,
          3,
          2
         ],
         "z": [
          0,
          0,
          1,
          1
         ]
        },
        {
         "color": "red",
         "flatshading": true,
         "opacity": 1,
         "type": "mesh3d",
         "x": [
          0,
          0,
          0,
          0
         ],
         "y": [
          2,
          3,
          3,
          2
         ],
         "z": [
          1,
          1,
          2,
          2
         ]
        },
        {
         "color": "red",
         "flatshading": true,
         "opacity": 1,
         "type": "mesh3d",
         "x": [
          0,
          0,
          0,
          0
         ],
         "y": [
          2,
          3,
          3,
          2
         ],
         "z": [
          2,
          2,
          3,
          3
         ]
        },
        {
         "color": "orange",
         "flatshading": true,
         "opacity": 1,
         "type": "mesh3d",
         "x": [
          2,
          2,
          2,
          2
         ],
         "y": [
          0,
          1,
          1,
          0
         ],
         "z": [
          0,
          0,
          1,
          1
         ]
        },
        {
         "color": "orange",
         "flatshading": true,
         "opacity": 1,
         "type": "mesh3d",
         "x": [
          2,
          2,
          2,
          2
         ],
         "y": [
          0,
          1,
          1,
          0
         ],
         "z": [
          1,
          1,
          2,
          2
         ]
        },
        {
         "color": "orange",
         "flatshading": true,
         "opacity": 1,
         "type": "mesh3d",
         "x": [
          2,
          2,
          2,
          2
         ],
         "y": [
          0,
          1,
          1,
          0
         ],
         "z": [
          2,
          2,
          3,
          3
         ]
        },
        {
         "color": "orange",
         "flatshading": true,
         "opacity": 1,
         "type": "mesh3d",
         "x": [
          2,
          2,
          2,
          2
         ],
         "y": [
          1,
          2,
          2,
          1
         ],
         "z": [
          0,
          0,
          1,
          1
         ]
        },
        {
         "color": "orange",
         "flatshading": true,
         "opacity": 1,
         "type": "mesh3d",
         "x": [
          2,
          2,
          2,
          2
         ],
         "y": [
          1,
          2,
          2,
          1
         ],
         "z": [
          1,
          1,
          2,
          2
         ]
        },
        {
         "color": "orange",
         "flatshading": true,
         "opacity": 1,
         "type": "mesh3d",
         "x": [
          2,
          2,
          2,
          2
         ],
         "y": [
          1,
          2,
          2,
          1
         ],
         "z": [
          2,
          2,
          3,
          3
         ]
        },
        {
         "color": "orange",
         "flatshading": true,
         "opacity": 1,
         "type": "mesh3d",
         "x": [
          2,
          2,
          2,
          2
         ],
         "y": [
          2,
          3,
          3,
          2
         ],
         "z": [
          0,
          0,
          1,
          1
         ]
        },
        {
         "color": "orange",
         "flatshading": true,
         "opacity": 1,
         "type": "mesh3d",
         "x": [
          2,
          2,
          2,
          2
         ],
         "y": [
          2,
          3,
          3,
          2
         ],
         "z": [
          1,
          1,
          2,
          2
         ]
        },
        {
         "color": "orange",
         "flatshading": true,
         "opacity": 1,
         "type": "mesh3d",
         "x": [
          2,
          2,
          2,
          2
         ],
         "y": [
          2,
          3,
          3,
          2
         ],
         "z": [
          2,
          2,
          3,
          3
         ]
        },
        {
         "color": "blue",
         "flatshading": true,
         "opacity": 1,
         "type": "mesh3d",
         "x": [
          0,
          1,
          1,
          0
         ],
         "y": [
          0,
          0,
          0,
          0
         ],
         "z": [
          0,
          0,
          1,
          1
         ]
        },
        {
         "color": "blue",
         "flatshading": true,
         "opacity": 1,
         "type": "mesh3d",
         "x": [
          0,
          1,
          1,
          0
         ],
         "y": [
          0,
          0,
          0,
          0
         ],
         "z": [
          1,
          1,
          2,
          2
         ]
        },
        {
         "color": "blue",
         "flatshading": true,
         "opacity": 1,
         "type": "mesh3d",
         "x": [
          0,
          1,
          1,
          0
         ],
         "y": [
          0,
          0,
          0,
          0
         ],
         "z": [
          2,
          2,
          3,
          3
         ]
        },
        {
         "color": "blue",
         "flatshading": true,
         "opacity": 1,
         "type": "mesh3d",
         "x": [
          1,
          2,
          2,
          1
         ],
         "y": [
          0,
          0,
          0,
          0
         ],
         "z": [
          0,
          0,
          1,
          1
         ]
        },
        {
         "color": "blue",
         "flatshading": true,
         "opacity": 1,
         "type": "mesh3d",
         "x": [
          1,
          2,
          2,
          1
         ],
         "y": [
          0,
          0,
          0,
          0
         ],
         "z": [
          1,
          1,
          2,
          2
         ]
        },
        {
         "color": "blue",
         "flatshading": true,
         "opacity": 1,
         "type": "mesh3d",
         "x": [
          1,
          2,
          2,
          1
         ],
         "y": [
          0,
          0,
          0,
          0
         ],
         "z": [
          2,
          2,
          3,
          3
         ]
        },
        {
         "color": "blue",
         "flatshading": true,
         "opacity": 1,
         "type": "mesh3d",
         "x": [
          2,
          3,
          3,
          2
         ],
         "y": [
          0,
          0,
          0,
          0
         ],
         "z": [
          0,
          0,
          1,
          1
         ]
        },
        {
         "color": "blue",
         "flatshading": true,
         "opacity": 1,
         "type": "mesh3d",
         "x": [
          2,
          3,
          3,
          2
         ],
         "y": [
          0,
          0,
          0,
          0
         ],
         "z": [
          1,
          1,
          2,
          2
         ]
        },
        {
         "color": "blue",
         "flatshading": true,
         "opacity": 1,
         "type": "mesh3d",
         "x": [
          2,
          3,
          3,
          2
         ],
         "y": [
          0,
          0,
          0,
          0
         ],
         "z": [
          2,
          2,
          3,
          3
         ]
        },
        {
         "color": "green",
         "flatshading": true,
         "opacity": 1,
         "type": "mesh3d",
         "x": [
          0,
          1,
          1,
          0
         ],
         "y": [
          2,
          2,
          2,
          2
         ],
         "z": [
          0,
          0,
          1,
          1
         ]
        },
        {
         "color": "green",
         "flatshading": true,
         "opacity": 1,
         "type": "mesh3d",
         "x": [
          0,
          1,
          1,
          0
         ],
         "y": [
          2,
          2,
          2,
          2
         ],
         "z": [
          1,
          1,
          2,
          2
         ]
        },
        {
         "color": "green",
         "flatshading": true,
         "opacity": 1,
         "type": "mesh3d",
         "x": [
          0,
          1,
          1,
          0
         ],
         "y": [
          2,
          2,
          2,
          2
         ],
         "z": [
          2,
          2,
          3,
          3
         ]
        },
        {
         "color": "green",
         "flatshading": true,
         "opacity": 1,
         "type": "mesh3d",
         "x": [
          1,
          2,
          2,
          1
         ],
         "y": [
          2,
          2,
          2,
          2
         ],
         "z": [
          0,
          0,
          1,
          1
         ]
        },
        {
         "color": "green",
         "flatshading": true,
         "opacity": 1,
         "type": "mesh3d",
         "x": [
          1,
          2,
          2,
          1
         ],
         "y": [
          2,
          2,
          2,
          2
         ],
         "z": [
          1,
          1,
          2,
          2
         ]
        },
        {
         "color": "green",
         "flatshading": true,
         "opacity": 1,
         "type": "mesh3d",
         "x": [
          1,
          2,
          2,
          1
         ],
         "y": [
          2,
          2,
          2,
          2
         ],
         "z": [
          2,
          2,
          3,
          3
         ]
        },
        {
         "color": "green",
         "flatshading": true,
         "opacity": 1,
         "type": "mesh3d",
         "x": [
          2,
          3,
          3,
          2
         ],
         "y": [
          2,
          2,
          2,
          2
         ],
         "z": [
          0,
          0,
          1,
          1
         ]
        },
        {
         "color": "green",
         "flatshading": true,
         "opacity": 1,
         "type": "mesh3d",
         "x": [
          2,
          3,
          3,
          2
         ],
         "y": [
          2,
          2,
          2,
          2
         ],
         "z": [
          1,
          1,
          2,
          2
         ]
        },
        {
         "color": "green",
         "flatshading": true,
         "opacity": 1,
         "type": "mesh3d",
         "x": [
          2,
          3,
          3,
          2
         ],
         "y": [
          2,
          2,
          2,
          2
         ],
         "z": [
          2,
          2,
          3,
          3
         ]
        }
       ],
       "layout": {
        "margin": {
         "b": 0,
         "l": 0,
         "r": 0,
         "t": 0
        },
        "scene": {
         "xaxis": {
          "visible": false
         },
         "yaxis": {
          "visible": false
         },
         "zaxis": {
          "visible": false
         }
        },
        "template": {
         "data": {
          "bar": [
           {
            "error_x": {
             "color": "#2a3f5f"
            },
            "error_y": {
             "color": "#2a3f5f"
            },
            "marker": {
             "line": {
              "color": "#E5ECF6",
              "width": 0.5
             },
             "pattern": {
              "fillmode": "overlay",
              "size": 10,
              "solidity": 0.2
             }
            },
            "type": "bar"
           }
          ],
          "barpolar": [
           {
            "marker": {
             "line": {
              "color": "#E5ECF6",
              "width": 0.5
             },
             "pattern": {
              "fillmode": "overlay",
              "size": 10,
              "solidity": 0.2
             }
            },
            "type": "barpolar"
           }
          ],
          "carpet": [
           {
            "aaxis": {
             "endlinecolor": "#2a3f5f",
             "gridcolor": "white",
             "linecolor": "white",
             "minorgridcolor": "white",
             "startlinecolor": "#2a3f5f"
            },
            "baxis": {
             "endlinecolor": "#2a3f5f",
             "gridcolor": "white",
             "linecolor": "white",
             "minorgridcolor": "white",
             "startlinecolor": "#2a3f5f"
            },
            "type": "carpet"
           }
          ],
          "choropleth": [
           {
            "colorbar": {
             "outlinewidth": 0,
             "ticks": ""
            },
            "type": "choropleth"
           }
          ],
          "contour": [
           {
            "colorbar": {
             "outlinewidth": 0,
             "ticks": ""
            },
            "colorscale": [
             [
              0,
              "#0d0887"
             ],
             [
              0.1111111111111111,
              "#46039f"
             ],
             [
              0.2222222222222222,
              "#7201a8"
             ],
             [
              0.3333333333333333,
              "#9c179e"
             ],
             [
              0.4444444444444444,
              "#bd3786"
             ],
             [
              0.5555555555555556,
              "#d8576b"
             ],
             [
              0.6666666666666666,
              "#ed7953"
             ],
             [
              0.7777777777777778,
              "#fb9f3a"
             ],
             [
              0.8888888888888888,
              "#fdca26"
             ],
             [
              1,
              "#f0f921"
             ]
            ],
            "type": "contour"
           }
          ],
          "contourcarpet": [
           {
            "colorbar": {
             "outlinewidth": 0,
             "ticks": ""
            },
            "type": "contourcarpet"
           }
          ],
          "heatmap": [
           {
            "colorbar": {
             "outlinewidth": 0,
             "ticks": ""
            },
            "colorscale": [
             [
              0,
              "#0d0887"
             ],
             [
              0.1111111111111111,
              "#46039f"
             ],
             [
              0.2222222222222222,
              "#7201a8"
             ],
             [
              0.3333333333333333,
              "#9c179e"
             ],
             [
              0.4444444444444444,
              "#bd3786"
             ],
             [
              0.5555555555555556,
              "#d8576b"
             ],
             [
              0.6666666666666666,
              "#ed7953"
             ],
             [
              0.7777777777777778,
              "#fb9f3a"
             ],
             [
              0.8888888888888888,
              "#fdca26"
             ],
             [
              1,
              "#f0f921"
             ]
            ],
            "type": "heatmap"
           }
          ],
          "heatmapgl": [
           {
            "colorbar": {
             "outlinewidth": 0,
             "ticks": ""
            },
            "colorscale": [
             [
              0,
              "#0d0887"
             ],
             [
              0.1111111111111111,
              "#46039f"
             ],
             [
              0.2222222222222222,
              "#7201a8"
             ],
             [
              0.3333333333333333,
              "#9c179e"
             ],
             [
              0.4444444444444444,
              "#bd3786"
             ],
             [
              0.5555555555555556,
              "#d8576b"
             ],
             [
              0.6666666666666666,
              "#ed7953"
             ],
             [
              0.7777777777777778,
              "#fb9f3a"
             ],
             [
              0.8888888888888888,
              "#fdca26"
             ],
             [
              1,
              "#f0f921"
             ]
            ],
            "type": "heatmapgl"
           }
          ],
          "histogram": [
           {
            "marker": {
             "pattern": {
              "fillmode": "overlay",
              "size": 10,
              "solidity": 0.2
             }
            },
            "type": "histogram"
           }
          ],
          "histogram2d": [
           {
            "colorbar": {
             "outlinewidth": 0,
             "ticks": ""
            },
            "colorscale": [
             [
              0,
              "#0d0887"
             ],
             [
              0.1111111111111111,
              "#46039f"
             ],
             [
              0.2222222222222222,
              "#7201a8"
             ],
             [
              0.3333333333333333,
              "#9c179e"
             ],
             [
              0.4444444444444444,
              "#bd3786"
             ],
             [
              0.5555555555555556,
              "#d8576b"
             ],
             [
              0.6666666666666666,
              "#ed7953"
             ],
             [
              0.7777777777777778,
              "#fb9f3a"
             ],
             [
              0.8888888888888888,
              "#fdca26"
             ],
             [
              1,
              "#f0f921"
             ]
            ],
            "type": "histogram2d"
           }
          ],
          "histogram2dcontour": [
           {
            "colorbar": {
             "outlinewidth": 0,
             "ticks": ""
            },
            "colorscale": [
             [
              0,
              "#0d0887"
             ],
             [
              0.1111111111111111,
              "#46039f"
             ],
             [
              0.2222222222222222,
              "#7201a8"
             ],
             [
              0.3333333333333333,
              "#9c179e"
             ],
             [
              0.4444444444444444,
              "#bd3786"
             ],
             [
              0.5555555555555556,
              "#d8576b"
             ],
             [
              0.6666666666666666,
              "#ed7953"
             ],
             [
              0.7777777777777778,
              "#fb9f3a"
             ],
             [
              0.8888888888888888,
              "#fdca26"
             ],
             [
              1,
              "#f0f921"
             ]
            ],
            "type": "histogram2dcontour"
           }
          ],
          "mesh3d": [
           {
            "colorbar": {
             "outlinewidth": 0,
             "ticks": ""
            },
            "type": "mesh3d"
           }
          ],
          "parcoords": [
           {
            "line": {
             "colorbar": {
              "outlinewidth": 0,
              "ticks": ""
             }
            },
            "type": "parcoords"
           }
          ],
          "pie": [
           {
            "automargin": true,
            "type": "pie"
           }
          ],
          "scatter": [
           {
            "fillpattern": {
             "fillmode": "overlay",
             "size": 10,
             "solidity": 0.2
            },
            "type": "scatter"
           }
          ],
          "scatter3d": [
           {
            "line": {
             "colorbar": {
              "outlinewidth": 0,
              "ticks": ""
             }
            },
            "marker": {
             "colorbar": {
              "outlinewidth": 0,
              "ticks": ""
             }
            },
            "type": "scatter3d"
           }
          ],
          "scattercarpet": [
           {
            "marker": {
             "colorbar": {
              "outlinewidth": 0,
              "ticks": ""
             }
            },
            "type": "scattercarpet"
           }
          ],
          "scattergeo": [
           {
            "marker": {
             "colorbar": {
              "outlinewidth": 0,
              "ticks": ""
             }
            },
            "type": "scattergeo"
           }
          ],
          "scattergl": [
           {
            "marker": {
             "colorbar": {
              "outlinewidth": 0,
              "ticks": ""
             }
            },
            "type": "scattergl"
           }
          ],
          "scattermapbox": [
           {
            "marker": {
             "colorbar": {
              "outlinewidth": 0,
              "ticks": ""
             }
            },
            "type": "scattermapbox"
           }
          ],
          "scatterpolar": [
           {
            "marker": {
             "colorbar": {
              "outlinewidth": 0,
              "ticks": ""
             }
            },
            "type": "scatterpolar"
           }
          ],
          "scatterpolargl": [
           {
            "marker": {
             "colorbar": {
              "outlinewidth": 0,
              "ticks": ""
             }
            },
            "type": "scatterpolargl"
           }
          ],
          "scatterternary": [
           {
            "marker": {
             "colorbar": {
              "outlinewidth": 0,
              "ticks": ""
             }
            },
            "type": "scatterternary"
           }
          ],
          "surface": [
           {
            "colorbar": {
             "outlinewidth": 0,
             "ticks": ""
            },
            "colorscale": [
             [
              0,
              "#0d0887"
             ],
             [
              0.1111111111111111,
              "#46039f"
             ],
             [
              0.2222222222222222,
              "#7201a8"
             ],
             [
              0.3333333333333333,
              "#9c179e"
             ],
             [
              0.4444444444444444,
              "#bd3786"
             ],
             [
              0.5555555555555556,
              "#d8576b"
             ],
             [
              0.6666666666666666,
              "#ed7953"
             ],
             [
              0.7777777777777778,
              "#fb9f3a"
             ],
             [
              0.8888888888888888,
              "#fdca26"
             ],
             [
              1,
              "#f0f921"
             ]
            ],
            "type": "surface"
           }
          ],
          "table": [
           {
            "cells": {
             "fill": {
              "color": "#EBF0F8"
             },
             "line": {
              "color": "white"
             }
            },
            "header": {
             "fill": {
              "color": "#C8D4E3"
             },
             "line": {
              "color": "white"
             }
            },
            "type": "table"
           }
          ]
         },
         "layout": {
          "annotationdefaults": {
           "arrowcolor": "#2a3f5f",
           "arrowhead": 0,
           "arrowwidth": 1
          },
          "autotypenumbers": "strict",
          "coloraxis": {
           "colorbar": {
            "outlinewidth": 0,
            "ticks": ""
           }
          },
          "colorscale": {
           "diverging": [
            [
             0,
             "#8e0152"
            ],
            [
             0.1,
             "#c51b7d"
            ],
            [
             0.2,
             "#de77ae"
            ],
            [
             0.3,
             "#f1b6da"
            ],
            [
             0.4,
             "#fde0ef"
            ],
            [
             0.5,
             "#f7f7f7"
            ],
            [
             0.6,
             "#e6f5d0"
            ],
            [
             0.7,
             "#b8e186"
            ],
            [
             0.8,
             "#7fbc41"
            ],
            [
             0.9,
             "#4d9221"
            ],
            [
             1,
             "#276419"
            ]
           ],
           "sequential": [
            [
             0,
             "#0d0887"
            ],
            [
             0.1111111111111111,
             "#46039f"
            ],
            [
             0.2222222222222222,
             "#7201a8"
            ],
            [
             0.3333333333333333,
             "#9c179e"
            ],
            [
             0.4444444444444444,
             "#bd3786"
            ],
            [
             0.5555555555555556,
             "#d8576b"
            ],
            [
             0.6666666666666666,
             "#ed7953"
            ],
            [
             0.7777777777777778,
             "#fb9f3a"
            ],
            [
             0.8888888888888888,
             "#fdca26"
            ],
            [
             1,
             "#f0f921"
            ]
           ],
           "sequentialminus": [
            [
             0,
             "#0d0887"
            ],
            [
             0.1111111111111111,
             "#46039f"
            ],
            [
             0.2222222222222222,
             "#7201a8"
            ],
            [
             0.3333333333333333,
             "#9c179e"
            ],
            [
             0.4444444444444444,
             "#bd3786"
            ],
            [
             0.5555555555555556,
             "#d8576b"
            ],
            [
             0.6666666666666666,
             "#ed7953"
            ],
            [
             0.7777777777777778,
             "#fb9f3a"
            ],
            [
             0.8888888888888888,
             "#fdca26"
            ],
            [
             1,
             "#f0f921"
            ]
           ]
          },
          "colorway": [
           "#636efa",
           "#EF553B",
           "#00cc96",
           "#ab63fa",
           "#FFA15A",
           "#19d3f3",
           "#FF6692",
           "#B6E880",
           "#FF97FF",
           "#FECB52"
          ],
          "font": {
           "color": "#2a3f5f"
          },
          "geo": {
           "bgcolor": "white",
           "lakecolor": "white",
           "landcolor": "#E5ECF6",
           "showlakes": true,
           "showland": true,
           "subunitcolor": "white"
          },
          "hoverlabel": {
           "align": "left"
          },
          "hovermode": "closest",
          "mapbox": {
           "style": "light"
          },
          "paper_bgcolor": "white",
          "plot_bgcolor": "#E5ECF6",
          "polar": {
           "angularaxis": {
            "gridcolor": "white",
            "linecolor": "white",
            "ticks": ""
           },
           "bgcolor": "#E5ECF6",
           "radialaxis": {
            "gridcolor": "white",
            "linecolor": "white",
            "ticks": ""
           }
          },
          "scene": {
           "xaxis": {
            "backgroundcolor": "#E5ECF6",
            "gridcolor": "white",
            "gridwidth": 2,
            "linecolor": "white",
            "showbackground": true,
            "ticks": "",
            "zerolinecolor": "white"
           },
           "yaxis": {
            "backgroundcolor": "#E5ECF6",
            "gridcolor": "white",
            "gridwidth": 2,
            "linecolor": "white",
            "showbackground": true,
            "ticks": "",
            "zerolinecolor": "white"
           },
           "zaxis": {
            "backgroundcolor": "#E5ECF6",
            "gridcolor": "white",
            "gridwidth": 2,
            "linecolor": "white",
            "showbackground": true,
            "ticks": "",
            "zerolinecolor": "white"
           }
          },
          "shapedefaults": {
           "line": {
            "color": "#2a3f5f"
           }
          },
          "ternary": {
           "aaxis": {
            "gridcolor": "white",
            "linecolor": "white",
            "ticks": ""
           },
           "baxis": {
            "gridcolor": "white",
            "linecolor": "white",
            "ticks": ""
           },
           "bgcolor": "#E5ECF6",
           "caxis": {
            "gridcolor": "white",
            "linecolor": "white",
            "ticks": ""
           }
          },
          "title": {
           "x": 0.05
          },
          "xaxis": {
           "automargin": true,
           "gridcolor": "white",
           "linecolor": "white",
           "ticks": "",
           "title": {
            "standoff": 15
           },
           "zerolinecolor": "white",
           "zerolinewidth": 2
          },
          "yaxis": {
           "automargin": true,
           "gridcolor": "white",
           "linecolor": "white",
           "ticks": "",
           "title": {
            "standoff": 15
           },
           "zerolinecolor": "white",
           "zerolinewidth": 2
          }
         }
        }
       }
      }
     },
     "metadata": {},
     "output_type": "display_data"
    }
   ],
   "source": [
    "import numpy as np\n",
    "import plotly.graph_objects as go\n",
    "\n",
    "# Create a 3x3x3 cube\n",
    "cube = np.ones((3, 3, 3), dtype=bool)\n",
    "\n",
    "# Define colors for each face\n",
    "colors = {\n",
    "    \"front\": \"white\",\n",
    "    \"back\": \"yellow\",\n",
    "    \"left\": \"red\",\n",
    "    \"right\": \"orange\",\n",
    "    \"bottom\": \"blue\",\n",
    "    \"top\": \"green\"\n",
    "}\n",
    "\n",
    "# Create a plotly figure\n",
    "fig = go.Figure()\n",
    "\n",
    "# Function to add a colored face to the cube\n",
    "def add_face(x, y, z, color):\n",
    "    fig.add_trace(go.Mesh3d(\n",
    "        x=x, y=y, z=z,\n",
    "        color=color,\n",
    "        opacity=1,\n",
    "        flatshading=True\n",
    "    ))\n",
    "\n",
    "# Front face\n",
    "for i in range(3):\n",
    "    for j in range(3):\n",
    "        add_face([i, i+1, i+1, i], [j, j, j+1, j+1], [0, 0, 0, 0], colors[\"front\"])\n",
    "\n",
    "# Back face\n",
    "for i in range(3):\n",
    "    for j in range(3):\n",
    "        add_face([i, i+1, i+1, i], [j, j, j+1, j+1], [2, 2, 2, 2], colors[\"back\"])\n",
    "\n",
    "# Left face\n",
    "for i in range(3):\n",
    "    for j in range(3):\n",
    "        add_face([0, 0, 0, 0], [i, i+1, i+1, i], [j, j, j+1, j+1], colors[\"left\"])\n",
    "\n",
    "# Right face\n",
    "for i in range(3):\n",
    "    for j in range(3):\n",
    "        add_face([2, 2, 2, 2], [i, i+1, i+1, i], [j, j, j+1, j+1], colors[\"right\"])\n",
    "\n",
    "# Bottom face\n",
    "for i in range(3):\n",
    "    for j in range(3):\n",
    "        add_face([i, i+1, i+1, i], [0, 0, 0, 0], [j, j, j+1, j+1], colors[\"bottom\"])\n",
    "\n",
    "# Top face\n",
    "for i in range(3):\n",
    "    for j in range(3):\n",
    "        add_face([i, i+1, i+1, i], [2, 2, 2, 2], [j, j, j+1, j+1], colors[\"top\"])\n",
    "\n",
    "# Update the layout of the figure\n",
    "fig.update_layout(\n",
    "    scene=dict(\n",
    "        xaxis=dict(visible=False),\n",
    "        yaxis=dict(visible=False),\n",
    "        zaxis=dict(visible=False)\n",
    "    ),\n",
    "    margin=dict(r=0, l=0, b=0, t=0)\n",
    ")\n",
    "\n",
    "# Show the plot\n",
    "fig.show()\n"
   ]
  },
  {
   "cell_type": "code",
   "execution_count": null,
   "metadata": {},
   "outputs": [],
   "source": []
  }
 ],
 "metadata": {
  "kernelspec": {
   "display_name": "rcube",
   "language": "python",
   "name": "python3"
  },
  "language_info": {
   "codemirror_mode": {
    "name": "ipython",
    "version": 3
   },
   "file_extension": ".py",
   "mimetype": "text/x-python",
   "name": "python",
   "nbconvert_exporter": "python",
   "pygments_lexer": "ipython3",
   "version": "3.12.4"
  }
 },
 "nbformat": 4,
 "nbformat_minor": 2
}
